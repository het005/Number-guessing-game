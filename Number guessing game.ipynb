{
 "cells": [
  {
   "cell_type": "code",
   "execution_count": 2,
   "id": "f749d287",
   "metadata": {},
   "outputs": [],
   "source": [
    "import random as rd"
   ]
  },
  {
   "cell_type": "code",
   "execution_count": null,
   "id": "e29433f3",
   "metadata": {},
   "outputs": [
    {
     "name": "stdout",
     "output_type": "stream",
     "text": [
      "To low ! Try again\n",
      "To high ! Try again\n",
      "To high ! Try again\n",
      "To low ! Try again\n",
      "To high ! Try again\n",
      "To high ! Try again\n"
     ]
    }
   ],
   "source": [
    "\n",
    "\n",
    "def number_guessing_game(): \n",
    "    random_num=rd.randint(1,100)\n",
    "    attempts=0\n",
    "    while True:\n",
    "        try:\n",
    "            user=int(input(\"enter the number\"))\n",
    "            attempts+=1\n",
    "            if user<random_num:\n",
    "                print(\"To low ! Try again\")\n",
    "            elif user>random_num:\n",
    "                print(\"To high ! Try again\")\n",
    "            else:\n",
    "                print(\"Congratulations!\")\n",
    "                break\n",
    "        except ValueError:\n",
    "            print(\"Invalid input. Please enter a number.\")\n",
    "            \n",
    "number_guessing_game()\n"
   ]
  }
 ],
 "metadata": {
  "kernelspec": {
   "display_name": "Python 3",
   "language": "python",
   "name": "python3"
  },
  "language_info": {
   "codemirror_mode": {
    "name": "ipython",
    "version": 3
   },
   "file_extension": ".py",
   "mimetype": "text/x-python",
   "name": "python",
   "nbconvert_exporter": "python",
   "pygments_lexer": "ipython3",
   "version": "3.13.2"
  }
 },
 "nbformat": 4,
 "nbformat_minor": 5
}
